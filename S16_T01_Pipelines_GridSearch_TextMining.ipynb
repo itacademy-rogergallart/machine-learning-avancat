{
  "nbformat": 4,
  "nbformat_minor": 0,
  "metadata": {
    "colab": {
      "name": "S16_T01_Pipelines_GridSearch_TextMining.ipynb",
      "provenance": [],
      "collapsed_sections": [],
      "authorship_tag": "ABX9TyPjLA424p10h1kujKlkcF4/"
    },
    "kernelspec": {
      "name": "python3",
      "display_name": "Python 3"
    },
    "language_info": {
      "name": "python"
    }
  },
  "cells": [
    {
      "cell_type": "markdown",
      "metadata": {
        "id": "bt8x8QwrUVAa"
      },
      "source": [
        "# S16 T01: Pipelines, grid search i text mining\n"
      ]
    },
    {
      "cell_type": "markdown",
      "metadata": {
        "id": "1M4DbpWUBr7x"
      },
      "source": [
        "Observacions:\n",
        "1.   Notebook desenvolupat utilitzant Google Colab\n",
        "2.   Repeteixo en aquest notebook el preprocessament del dataset que ja haviem fet en tasques anteriors per tal que el notebook sigui \"autocontingut\"\n",
        "\n"
      ]
    },
    {
      "cell_type": "code",
      "metadata": {
        "id": "nwryAgBJxtbB"
      },
      "source": [
        "# Upgrade Sklearn (in Colab) to latest version 0.24.2\n",
        "!pip install scikit-learn --upgrade  &> /dev/null"
      ],
      "execution_count": 1,
      "outputs": []
    },
    {
      "cell_type": "code",
      "metadata": {
        "id": "De9nT_6WP6oq"
      },
      "source": [
        "!pip install --upgrade nltk &> /dev/null"
      ],
      "execution_count": 2,
      "outputs": []
    },
    {
      "cell_type": "code",
      "metadata": {
        "id": "fiDLoYeyPlTx"
      },
      "source": [
        "from sklearn.datasets import load_breast_cancer\n",
        "from sklearn.model_selection import RandomizedSearchCV, GridSearchCV, train_test_split\n",
        "from sklearn.preprocessing import StandardScaler\n",
        "from sklearn.ensemble import RandomForestClassifier\n",
        "from sklearn.pipeline import Pipeline\n",
        "from sklearn.metrics import classification_report\n",
        "\n",
        "from sklearn import set_config\n",
        "from tqdm.notebook import tqdm\n",
        "from functools import partial\n",
        "from pprint import pprint\n",
        "\n",
        "import numpy as np\n",
        "import pandas as pd\n",
        "import matplotlib.pyplot as plt\n"
      ],
      "execution_count": 3,
      "outputs": []
    },
    {
      "cell_type": "code",
      "metadata": {
        "id": "7X8YCqzYSU5L"
      },
      "source": [
        "# Notebook configuration\n",
        "\n",
        "# Plots\n",
        "%matplotlib inline\n",
        "\n",
        "# Pandas\n",
        "pd.set_option(\"display.max_columns\", None) # Display all columns of DataFrame\n",
        "\n",
        "# Pipelines\n",
        "set_config(display='diagram')  # Display pipelines graphically\n",
        "\n",
        "# Progress bars\n",
        "tqdm = partial(tqdm, position=0, leave=True)\n",
        "\n",
        "# Constants\n",
        "RS = 42  # Random_state constant value\n"
      ],
      "execution_count": 4,
      "outputs": []
    },
    {
      "cell_type": "markdown",
      "metadata": {
        "id": "q2YxJcPqAJMP"
      },
      "source": [
        "## Nivell 1 - Exercici 1\n",
        "Agafa el conjunt de dades que vulguis i realitza un pipeline i un gridsearch aplicant l'algorisme de Random Forest."
      ]
    },
    {
      "cell_type": "markdown",
      "metadata": {
        "id": "S-9fNBVp6lba"
      },
      "source": [
        "- Fem servir el **breast cancer wisconsin dataset** de sklearn."
      ]
    },
    {
      "cell_type": "code",
      "metadata": {
        "id": "4ui5qz3JP5YI"
      },
      "source": [
        "data = load_breast_cancer(as_frame=True)"
      ],
      "execution_count": 5,
      "outputs": []
    },
    {
      "cell_type": "code",
      "metadata": {
        "colab": {
          "base_uri": "https://localhost:8080/"
        },
        "id": "FdoqpHfqQu81",
        "outputId": "dbf90c8f-1139-489c-d533-2af1ba8a7725"
      },
      "source": [
        "target_names = data.target_names\n",
        "target_names"
      ],
      "execution_count": 6,
      "outputs": [
        {
          "output_type": "execute_result",
          "data": {
            "text/plain": [
              "array(['malignant', 'benign'], dtype='<U9')"
            ]
          },
          "metadata": {},
          "execution_count": 6
        }
      ]
    },
    {
      "cell_type": "code",
      "metadata": {
        "colab": {
          "base_uri": "https://localhost:8080/",
          "height": 258
        },
        "id": "-K32vll3QUuV",
        "outputId": "9d6b6929-f26f-473a-aabc-e66dc4acb959"
      },
      "source": [
        "df = data.frame\n",
        "df.head()"
      ],
      "execution_count": 7,
      "outputs": [
        {
          "output_type": "execute_result",
          "data": {
            "text/html": [
              "<div>\n",
              "<style scoped>\n",
              "    .dataframe tbody tr th:only-of-type {\n",
              "        vertical-align: middle;\n",
              "    }\n",
              "\n",
              "    .dataframe tbody tr th {\n",
              "        vertical-align: top;\n",
              "    }\n",
              "\n",
              "    .dataframe thead th {\n",
              "        text-align: right;\n",
              "    }\n",
              "</style>\n",
              "<table border=\"1\" class=\"dataframe\">\n",
              "  <thead>\n",
              "    <tr style=\"text-align: right;\">\n",
              "      <th></th>\n",
              "      <th>mean radius</th>\n",
              "      <th>mean texture</th>\n",
              "      <th>mean perimeter</th>\n",
              "      <th>mean area</th>\n",
              "      <th>mean smoothness</th>\n",
              "      <th>mean compactness</th>\n",
              "      <th>mean concavity</th>\n",
              "      <th>mean concave points</th>\n",
              "      <th>mean symmetry</th>\n",
              "      <th>mean fractal dimension</th>\n",
              "      <th>radius error</th>\n",
              "      <th>texture error</th>\n",
              "      <th>perimeter error</th>\n",
              "      <th>area error</th>\n",
              "      <th>smoothness error</th>\n",
              "      <th>compactness error</th>\n",
              "      <th>concavity error</th>\n",
              "      <th>concave points error</th>\n",
              "      <th>symmetry error</th>\n",
              "      <th>fractal dimension error</th>\n",
              "      <th>worst radius</th>\n",
              "      <th>worst texture</th>\n",
              "      <th>worst perimeter</th>\n",
              "      <th>worst area</th>\n",
              "      <th>worst smoothness</th>\n",
              "      <th>worst compactness</th>\n",
              "      <th>worst concavity</th>\n",
              "      <th>worst concave points</th>\n",
              "      <th>worst symmetry</th>\n",
              "      <th>worst fractal dimension</th>\n",
              "      <th>target</th>\n",
              "    </tr>\n",
              "  </thead>\n",
              "  <tbody>\n",
              "    <tr>\n",
              "      <th>0</th>\n",
              "      <td>17.99</td>\n",
              "      <td>10.38</td>\n",
              "      <td>122.80</td>\n",
              "      <td>1001.0</td>\n",
              "      <td>0.11840</td>\n",
              "      <td>0.27760</td>\n",
              "      <td>0.3001</td>\n",
              "      <td>0.14710</td>\n",
              "      <td>0.2419</td>\n",
              "      <td>0.07871</td>\n",
              "      <td>1.0950</td>\n",
              "      <td>0.9053</td>\n",
              "      <td>8.589</td>\n",
              "      <td>153.40</td>\n",
              "      <td>0.006399</td>\n",
              "      <td>0.04904</td>\n",
              "      <td>0.05373</td>\n",
              "      <td>0.01587</td>\n",
              "      <td>0.03003</td>\n",
              "      <td>0.006193</td>\n",
              "      <td>25.38</td>\n",
              "      <td>17.33</td>\n",
              "      <td>184.60</td>\n",
              "      <td>2019.0</td>\n",
              "      <td>0.1622</td>\n",
              "      <td>0.6656</td>\n",
              "      <td>0.7119</td>\n",
              "      <td>0.2654</td>\n",
              "      <td>0.4601</td>\n",
              "      <td>0.11890</td>\n",
              "      <td>0</td>\n",
              "    </tr>\n",
              "    <tr>\n",
              "      <th>1</th>\n",
              "      <td>20.57</td>\n",
              "      <td>17.77</td>\n",
              "      <td>132.90</td>\n",
              "      <td>1326.0</td>\n",
              "      <td>0.08474</td>\n",
              "      <td>0.07864</td>\n",
              "      <td>0.0869</td>\n",
              "      <td>0.07017</td>\n",
              "      <td>0.1812</td>\n",
              "      <td>0.05667</td>\n",
              "      <td>0.5435</td>\n",
              "      <td>0.7339</td>\n",
              "      <td>3.398</td>\n",
              "      <td>74.08</td>\n",
              "      <td>0.005225</td>\n",
              "      <td>0.01308</td>\n",
              "      <td>0.01860</td>\n",
              "      <td>0.01340</td>\n",
              "      <td>0.01389</td>\n",
              "      <td>0.003532</td>\n",
              "      <td>24.99</td>\n",
              "      <td>23.41</td>\n",
              "      <td>158.80</td>\n",
              "      <td>1956.0</td>\n",
              "      <td>0.1238</td>\n",
              "      <td>0.1866</td>\n",
              "      <td>0.2416</td>\n",
              "      <td>0.1860</td>\n",
              "      <td>0.2750</td>\n",
              "      <td>0.08902</td>\n",
              "      <td>0</td>\n",
              "    </tr>\n",
              "    <tr>\n",
              "      <th>2</th>\n",
              "      <td>19.69</td>\n",
              "      <td>21.25</td>\n",
              "      <td>130.00</td>\n",
              "      <td>1203.0</td>\n",
              "      <td>0.10960</td>\n",
              "      <td>0.15990</td>\n",
              "      <td>0.1974</td>\n",
              "      <td>0.12790</td>\n",
              "      <td>0.2069</td>\n",
              "      <td>0.05999</td>\n",
              "      <td>0.7456</td>\n",
              "      <td>0.7869</td>\n",
              "      <td>4.585</td>\n",
              "      <td>94.03</td>\n",
              "      <td>0.006150</td>\n",
              "      <td>0.04006</td>\n",
              "      <td>0.03832</td>\n",
              "      <td>0.02058</td>\n",
              "      <td>0.02250</td>\n",
              "      <td>0.004571</td>\n",
              "      <td>23.57</td>\n",
              "      <td>25.53</td>\n",
              "      <td>152.50</td>\n",
              "      <td>1709.0</td>\n",
              "      <td>0.1444</td>\n",
              "      <td>0.4245</td>\n",
              "      <td>0.4504</td>\n",
              "      <td>0.2430</td>\n",
              "      <td>0.3613</td>\n",
              "      <td>0.08758</td>\n",
              "      <td>0</td>\n",
              "    </tr>\n",
              "    <tr>\n",
              "      <th>3</th>\n",
              "      <td>11.42</td>\n",
              "      <td>20.38</td>\n",
              "      <td>77.58</td>\n",
              "      <td>386.1</td>\n",
              "      <td>0.14250</td>\n",
              "      <td>0.28390</td>\n",
              "      <td>0.2414</td>\n",
              "      <td>0.10520</td>\n",
              "      <td>0.2597</td>\n",
              "      <td>0.09744</td>\n",
              "      <td>0.4956</td>\n",
              "      <td>1.1560</td>\n",
              "      <td>3.445</td>\n",
              "      <td>27.23</td>\n",
              "      <td>0.009110</td>\n",
              "      <td>0.07458</td>\n",
              "      <td>0.05661</td>\n",
              "      <td>0.01867</td>\n",
              "      <td>0.05963</td>\n",
              "      <td>0.009208</td>\n",
              "      <td>14.91</td>\n",
              "      <td>26.50</td>\n",
              "      <td>98.87</td>\n",
              "      <td>567.7</td>\n",
              "      <td>0.2098</td>\n",
              "      <td>0.8663</td>\n",
              "      <td>0.6869</td>\n",
              "      <td>0.2575</td>\n",
              "      <td>0.6638</td>\n",
              "      <td>0.17300</td>\n",
              "      <td>0</td>\n",
              "    </tr>\n",
              "    <tr>\n",
              "      <th>4</th>\n",
              "      <td>20.29</td>\n",
              "      <td>14.34</td>\n",
              "      <td>135.10</td>\n",
              "      <td>1297.0</td>\n",
              "      <td>0.10030</td>\n",
              "      <td>0.13280</td>\n",
              "      <td>0.1980</td>\n",
              "      <td>0.10430</td>\n",
              "      <td>0.1809</td>\n",
              "      <td>0.05883</td>\n",
              "      <td>0.7572</td>\n",
              "      <td>0.7813</td>\n",
              "      <td>5.438</td>\n",
              "      <td>94.44</td>\n",
              "      <td>0.011490</td>\n",
              "      <td>0.02461</td>\n",
              "      <td>0.05688</td>\n",
              "      <td>0.01885</td>\n",
              "      <td>0.01756</td>\n",
              "      <td>0.005115</td>\n",
              "      <td>22.54</td>\n",
              "      <td>16.67</td>\n",
              "      <td>152.20</td>\n",
              "      <td>1575.0</td>\n",
              "      <td>0.1374</td>\n",
              "      <td>0.2050</td>\n",
              "      <td>0.4000</td>\n",
              "      <td>0.1625</td>\n",
              "      <td>0.2364</td>\n",
              "      <td>0.07678</td>\n",
              "      <td>0</td>\n",
              "    </tr>\n",
              "  </tbody>\n",
              "</table>\n",
              "</div>"
            ],
            "text/plain": [
              "   mean radius  mean texture  mean perimeter  mean area  mean smoothness  \\\n",
              "0        17.99         10.38          122.80     1001.0          0.11840   \n",
              "1        20.57         17.77          132.90     1326.0          0.08474   \n",
              "2        19.69         21.25          130.00     1203.0          0.10960   \n",
              "3        11.42         20.38           77.58      386.1          0.14250   \n",
              "4        20.29         14.34          135.10     1297.0          0.10030   \n",
              "\n",
              "   mean compactness  mean concavity  mean concave points  mean symmetry  \\\n",
              "0           0.27760          0.3001              0.14710         0.2419   \n",
              "1           0.07864          0.0869              0.07017         0.1812   \n",
              "2           0.15990          0.1974              0.12790         0.2069   \n",
              "3           0.28390          0.2414              0.10520         0.2597   \n",
              "4           0.13280          0.1980              0.10430         0.1809   \n",
              "\n",
              "   mean fractal dimension  radius error  texture error  perimeter error  \\\n",
              "0                 0.07871        1.0950         0.9053            8.589   \n",
              "1                 0.05667        0.5435         0.7339            3.398   \n",
              "2                 0.05999        0.7456         0.7869            4.585   \n",
              "3                 0.09744        0.4956         1.1560            3.445   \n",
              "4                 0.05883        0.7572         0.7813            5.438   \n",
              "\n",
              "   area error  smoothness error  compactness error  concavity error  \\\n",
              "0      153.40          0.006399            0.04904          0.05373   \n",
              "1       74.08          0.005225            0.01308          0.01860   \n",
              "2       94.03          0.006150            0.04006          0.03832   \n",
              "3       27.23          0.009110            0.07458          0.05661   \n",
              "4       94.44          0.011490            0.02461          0.05688   \n",
              "\n",
              "   concave points error  symmetry error  fractal dimension error  \\\n",
              "0               0.01587         0.03003                 0.006193   \n",
              "1               0.01340         0.01389                 0.003532   \n",
              "2               0.02058         0.02250                 0.004571   \n",
              "3               0.01867         0.05963                 0.009208   \n",
              "4               0.01885         0.01756                 0.005115   \n",
              "\n",
              "   worst radius  worst texture  worst perimeter  worst area  worst smoothness  \\\n",
              "0         25.38          17.33           184.60      2019.0            0.1622   \n",
              "1         24.99          23.41           158.80      1956.0            0.1238   \n",
              "2         23.57          25.53           152.50      1709.0            0.1444   \n",
              "3         14.91          26.50            98.87       567.7            0.2098   \n",
              "4         22.54          16.67           152.20      1575.0            0.1374   \n",
              "\n",
              "   worst compactness  worst concavity  worst concave points  worst symmetry  \\\n",
              "0             0.6656           0.7119                0.2654          0.4601   \n",
              "1             0.1866           0.2416                0.1860          0.2750   \n",
              "2             0.4245           0.4504                0.2430          0.3613   \n",
              "3             0.8663           0.6869                0.2575          0.6638   \n",
              "4             0.2050           0.4000                0.1625          0.2364   \n",
              "\n",
              "   worst fractal dimension  target  \n",
              "0                  0.11890       0  \n",
              "1                  0.08902       0  \n",
              "2                  0.08758       0  \n",
              "3                  0.17300       0  \n",
              "4                  0.07678       0  "
            ]
          },
          "metadata": {},
          "execution_count": 7
        }
      ]
    },
    {
      "cell_type": "markdown",
      "metadata": {
        "id": "GtzzjpXg70ck"
      },
      "source": [
        "- Separem train/test"
      ]
    },
    {
      "cell_type": "code",
      "metadata": {
        "colab": {
          "base_uri": "https://localhost:8080/"
        },
        "id": "uh5J0vSTbX_4",
        "outputId": "9d2c407c-97ef-4f6c-daf6-a798877ae00a"
      },
      "source": [
        "df_X_train, df_X_test, df_y_train, df_y_test = train_test_split(df.iloc[:,:-1],\n",
        "                                                                df['target'],\n",
        "                                                                test_size=0.3,\n",
        "                                                                stratify=df[['target']],\n",
        "                                                                random_state=RS,\n",
        "                                                                shuffle=True)\n",
        "\n",
        "total_size = df.shape[0]\n",
        "train_size = df_X_train.shape[0]\n",
        "test_size = df_X_test.shape[0]\n",
        "\n",
        "print(f'Total size of the dataset: {total_size} samples')\n",
        "print(f'Check of training set size: {train_size} samples ({100*train_size/total_size:.2f}%)')\n",
        "print(f'Check of test set size: {test_size} samples ({100*test_size/total_size:.2f}%)')"
      ],
      "execution_count": 8,
      "outputs": [
        {
          "output_type": "stream",
          "name": "stdout",
          "text": [
            "Total size of the dataset: 569 samples\n",
            "Check of training set size: 398 samples (69.95%)\n",
            "Check of test set size: 171 samples (30.05%)\n"
          ]
        }
      ]
    },
    {
      "cell_type": "markdown",
      "metadata": {
        "id": "GtOGmgCs76dn"
      },
      "source": [
        "- **Base model:** Per poder comparar les millores amb l'ajust de hiperparàmetres, creem un model RandomForest amb els paràmetres per defecte de sklearn"
      ]
    },
    {
      "cell_type": "code",
      "metadata": {
        "id": "iKHAlGRGbBP0"
      },
      "source": [
        "# Base model\n",
        "\n",
        "scaler_base = StandardScaler()\n",
        "rf_base = RandomForestClassifier(random_state=RS, n_jobs=-1)\n",
        "\n",
        "pipe_base = Pipeline([('scaler', scaler_base),\n",
        "                     ('classifier', rf_base)\n",
        "                    ]);\n",
        "\n",
        "pipe_base.fit(df_X_train, df_y_train);"
      ],
      "execution_count": 9,
      "outputs": []
    },
    {
      "cell_type": "code",
      "metadata": {
        "colab": {
          "base_uri": "https://localhost:8080/"
        },
        "id": "zzqbNu29-Z2i",
        "outputId": "4617e703-f640-4c75-de03-3f2629ea27de"
      },
      "source": [
        "print('Classification report (Base model):\\n')\n",
        "print(classification_report(df_y_test, pipe_base.predict(df_X_test), digits=4, target_names=target_names))"
      ],
      "execution_count": 17,
      "outputs": [
        {
          "output_type": "stream",
          "name": "stdout",
          "text": [
            "Classification report (Base model):\n",
            "\n",
            "              precision    recall  f1-score   support\n",
            "\n",
            "   malignant     0.9206    0.9062    0.9134        64\n",
            "      benign     0.9444    0.9533    0.9488       107\n",
            "\n",
            "    accuracy                         0.9357       171\n",
            "   macro avg     0.9325    0.9298    0.9311       171\n",
            "weighted avg     0.9355    0.9357    0.9356       171\n",
            "\n"
          ]
        }
      ]
    },
    {
      "cell_type": "markdown",
      "metadata": {
        "id": "pkZdmtKV9dKG"
      },
      "source": [
        "- **Random Search**: primer fem una exploració ràpida de l'espai de hiperparàmetres fent un random search i a partir del resultat obtingut, farem un GridSearch per trobar els valors òptims.\n"
      ]
    },
    {
      "cell_type": "code",
      "metadata": {
        "colab": {
          "base_uri": "https://localhost:8080/"
        },
        "id": "Gglz1GT2S5fv",
        "outputId": "efeafa27-d7b9-47f8-c913-8b62e4a6369a"
      },
      "source": [
        "# Number of trees in random forest\n",
        "n_estimators = [int(x) for x in np.linspace(start = 100, stop = 2100, num = 11)]\n",
        "\n",
        "# Number of features to consider at every split\n",
        "max_features = ['sqrt', 'log2', None]\n",
        "\n",
        "# Maximum number of levels in tree\n",
        "max_depth = [int(x) for x in np.linspace(10, 140, num = 14)]\n",
        "max_depth.append(None)\n",
        "\n",
        "# Minimum number of samples required to split a node\n",
        "min_samples_split = [2, 5, 10, 15]\n",
        "\n",
        "# Minimum number of samples required at each leaf node\n",
        "min_samples_leaf = [1, 2, 3, 4, 5, 6]\n",
        "\n",
        "# Method of selecting samples for training each tree\n",
        "bootstrap = [True, False]\n",
        "\n",
        "# Criterion\n",
        "criterion = ['gini', 'entropy']\n",
        "\n",
        "# Create the random grid\n",
        "random_grid = {'n_estimators': n_estimators,\n",
        "               'max_features': max_features,\n",
        "               'max_depth': max_depth,\n",
        "               'min_samples_split': min_samples_split,\n",
        "               'min_samples_leaf': min_samples_leaf,\n",
        "               'bootstrap': bootstrap,\n",
        "               'criterion': criterion}\n",
        "\n",
        "pprint(random_grid, width=100)"
      ],
      "execution_count": 18,
      "outputs": [
        {
          "output_type": "stream",
          "name": "stdout",
          "text": [
            "{'bootstrap': [True, False],\n",
            " 'criterion': ['gini', 'entropy'],\n",
            " 'max_depth': [10, 20, 30, 40, 50, 60, 70, 80, 90, 100, 110, 120, 130, 140, None],\n",
            " 'max_features': ['sqrt', 'log2', None],\n",
            " 'min_samples_leaf': [1, 2, 3, 4, 5, 6],\n",
            " 'min_samples_split': [2, 5, 10, 15],\n",
            " 'n_estimators': [100, 300, 500, 700, 900, 1100, 1300, 1500, 1700, 1900, 2100]}\n"
          ]
        }
      ]
    },
    {
      "cell_type": "code",
      "metadata": {
        "colab": {
          "base_uri": "https://localhost:8080/"
        },
        "id": "0Z9q3aPnTngx",
        "outputId": "a0f02b3a-3454-45d9-ea32-fe4e95b0dbe6"
      },
      "source": [
        "scaler_random = StandardScaler();\n",
        "rf_random = RandomForestClassifier(random_state=RS, n_jobs=-1)\n",
        "\n",
        "rf_random_search = RandomizedSearchCV(estimator = rf_random, \n",
        "                               param_distributions = random_grid, \n",
        "                               n_iter = 100, \n",
        "                               cv = 3, \n",
        "                               verbose=2, \n",
        "                               random_state=RS, \n",
        "                               n_jobs = -1,\n",
        "                               refit=True);\n",
        "\n",
        "pipe_random_search = Pipeline([('scaler', scaler_random),\n",
        "                     ('classifier', rf_random_search)\n",
        "                    ]);\n",
        "\n",
        "pipe_random_search.fit(df_X_train, df_y_train);"
      ],
      "execution_count": 19,
      "outputs": [
        {
          "output_type": "stream",
          "name": "stdout",
          "text": [
            "Fitting 3 folds for each of 100 candidates, totalling 300 fits\n"
          ]
        }
      ]
    },
    {
      "cell_type": "code",
      "metadata": {
        "colab": {
          "base_uri": "https://localhost:8080/"
        },
        "id": "J4Mb59BxU4FG",
        "outputId": "01690d4b-30bc-4cc9-d739-eaea822b01ce"
      },
      "source": [
        "print('Classification report (Randomized Search best parameters):\\n')\n",
        "print(classification_report(df_y_test, pipe_random_search.predict(df_X_test), digits=4, target_names=target_names))"
      ],
      "execution_count": 20,
      "outputs": [
        {
          "output_type": "stream",
          "name": "stdout",
          "text": [
            "Classification report (Randomized Search best parameters):\n",
            "\n",
            "              precision    recall  f1-score   support\n",
            "\n",
            "   malignant     0.9355    0.9062    0.9206        64\n",
            "      benign     0.9450    0.9626    0.9537       107\n",
            "\n",
            "    accuracy                         0.9415       171\n",
            "   macro avg     0.9402    0.9344    0.9372       171\n",
            "weighted avg     0.9414    0.9415    0.9413       171\n",
            "\n"
          ]
        }
      ]
    },
    {
      "cell_type": "markdown",
      "metadata": {
        "id": "zDG2rgZ8HGcM"
      },
      "source": [
        "Veiem com hem millorat les prediccions per exemple fixant-nos en el f1-score que ha augmentat per a les dues classes (benign i malignant). \n",
        "\n",
        "Ara podem intentar fer un ajust més precis utilitzant GridSearch a partir dels paràmetres que hem trobat amb el Randomized Search."
      ]
    },
    {
      "cell_type": "code",
      "metadata": {
        "colab": {
          "base_uri": "https://localhost:8080/"
        },
        "id": "WRr8CNdFYwAz",
        "outputId": "fa0ff768-2486-41ef-90c2-6079430f2846"
      },
      "source": [
        "print(\"Best Parameters after Randomized Search:\\n\")\n",
        "\n",
        "pipe_random_search['classifier'].best_params_"
      ],
      "execution_count": 21,
      "outputs": [
        {
          "output_type": "stream",
          "name": "stdout",
          "text": [
            "Best Parameters after Randomized Search:\n",
            "\n"
          ]
        },
        {
          "output_type": "execute_result",
          "data": {
            "text/plain": [
              "{'bootstrap': True,\n",
              " 'criterion': 'gini',\n",
              " 'max_depth': 30,\n",
              " 'max_features': 'log2',\n",
              " 'min_samples_leaf': 2,\n",
              " 'min_samples_split': 2,\n",
              " 'n_estimators': 1500}"
            ]
          },
          "metadata": {},
          "execution_count": 21
        }
      ]
    },
    {
      "cell_type": "markdown",
      "metadata": {
        "id": "ACb4rsWRHky4"
      },
      "source": [
        "- **Grid Search**: fem una recerca dels hiperparàmetres al voltant dels valors que hem obtingut amb el Randomized Search."
      ]
    },
    {
      "cell_type": "code",
      "metadata": {
        "id": "1kLt2Q12jlK-"
      },
      "source": [
        "param_grid = {\n",
        "    'bootstrap': [True],\n",
        "    'criterion': ['gini'],\n",
        "    'max_depth': [10, 20, 30, 40],\n",
        "    'max_features': ['log2'],\n",
        "    'min_samples_leaf': [1,2,3],\n",
        "    'min_samples_split': [1,2,3],\n",
        "    'n_estimators': [1450, 1500, 1650]\n",
        "}\n",
        "\n",
        "scaler_grid = StandardScaler();\n",
        "rf_grid = RandomForestClassifier(random_state=RS, n_jobs=-1);\n",
        "\n",
        "rf_grid_search = GridSearchCV(estimator = rf_grid, \n",
        "                       param_grid = param_grid,\n",
        "                       cv = 3,\n",
        "                       verbose=2,\n",
        "                       n_jobs = -1,\n",
        "                       refit=True);\n",
        "\n",
        "pipe_grid_search = Pipeline([('scaler', scaler_grid),\n",
        "                             ('classifier', rf_grid_search)\n",
        "                            ]);\n",
        "\n",
        "pipe_grid_search.fit(df_X_train, df_y_train)"
      ],
      "execution_count": null,
      "outputs": []
    },
    {
      "cell_type": "code",
      "metadata": {
        "colab": {
          "base_uri": "https://localhost:8080/"
        },
        "id": "_1iTKoIAn4fm",
        "outputId": "d346fb92-9460-46ed-b61e-01feb40bf750"
      },
      "source": [
        "print('Classification report (GridSearchCV best parameters):')\n",
        "print(classification_report(df_y_test, pipe_grid_search.predict(df_X_test), digits=4, target_names=target_names))"
      ],
      "execution_count": 31,
      "outputs": [
        {
          "output_type": "stream",
          "name": "stdout",
          "text": [
            "Classification report (GridSearchCV best parameters):\n",
            "              precision    recall  f1-score   support\n",
            "\n",
            "   malignant     0.9508    0.9062    0.9280        64\n",
            "      benign     0.9455    0.9720    0.9585       107\n",
            "\n",
            "    accuracy                         0.9474       171\n",
            "   macro avg     0.9481    0.9391    0.9433       171\n",
            "weighted avg     0.9475    0.9474    0.9471       171\n",
            "\n"
          ]
        }
      ]
    },
    {
      "cell_type": "markdown",
      "metadata": {
        "id": "8rtNynuKaacc"
      },
      "source": [
        "Veiem com hem millorat una mica més els scores del model predictiu, sobretot  la precisió de la classe \"malignant\"."
      ]
    },
    {
      "cell_type": "code",
      "metadata": {
        "colab": {
          "base_uri": "https://localhost:8080/"
        },
        "id": "AjvXqhXuoG2A",
        "outputId": "d4412faf-8e70-437d-c631-b1d6f5799c33"
      },
      "source": [
        "print(\"Best Parameters after Grid Search:\\n\")\n",
        "\n",
        "pipe_grid_search['classifier'].best_params_"
      ],
      "execution_count": 33,
      "outputs": [
        {
          "output_type": "stream",
          "name": "stdout",
          "text": [
            "Best Parameters after Grid Search:\n",
            "\n"
          ]
        },
        {
          "output_type": "execute_result",
          "data": {
            "text/plain": [
              "{'bootstrap': True,\n",
              " 'criterion': 'gini',\n",
              " 'max_depth': 10,\n",
              " 'max_features': 'log2',\n",
              " 'min_samples_leaf': 1,\n",
              " 'min_samples_split': 2,\n",
              " 'n_estimators': 1450}"
            ]
          },
          "metadata": {},
          "execution_count": 33
        }
      ]
    },
    {
      "cell_type": "markdown",
      "metadata": {
        "id": "DG16Y2hgAMxp"
      },
      "source": [
        "## Nivell 1 - Exercici 2\n",
        "Agafa un text en anglès que vulguis, i calcula'n la freqüència de les paraules."
      ]
    },
    {
      "cell_type": "markdown",
      "metadata": {
        "id": "Y3zSj4a8OI49"
      },
      "source": [
        "Com a text he agafat un article d'opinió de TheGuardian titulat **\"Who's to blame for the Afghanistan chaos?\"** que tracta sobre la retirada de les tropes americanes d'Afghanistan:\n",
        "\n",
        "https://www.theguardian.com/commentisfree/2021/aug/25/blame-afghanistan-war-media-intervention"
      ]
    },
    {
      "cell_type": "code",
      "metadata": {
        "id": "-weXSDPHAtgK"
      },
      "source": [
        "import nltk\n",
        "from nltk.tokenize import sent_tokenize, word_tokenize\n",
        "from nltk.probability import FreqDist\n",
        "from nltk.corpus import stopwords\n",
        "from nltk.stem import PorterStemmer\n",
        "from nltk.sentiment import SentimentIntensityAnalyzer"
      ],
      "execution_count": null,
      "outputs": []
    },
    {
      "cell_type": "code",
      "metadata": {
        "colab": {
          "base_uri": "https://localhost:8080/"
        },
        "id": "qNw6kVhMPzYM",
        "outputId": "21f47860-68a0-4afa-9e74-ea966d1c6a74"
      },
      "source": [
        "# Downloads \n",
        "nltk.download('punkt')  # Sentence tokenizer for english language\n",
        "nltk.download('stopwords') # Stopwords for english language\n",
        "nltk.download('vader_lexicon') # Sentiment analysis"
      ],
      "execution_count": null,
      "outputs": [
        {
          "output_type": "stream",
          "name": "stderr",
          "text": [
            "[nltk_data] Downloading package punkt to /root/nltk_data...\n",
            "[nltk_data]   Unzipping tokenizers/punkt.zip.\n",
            "[nltk_data] Downloading package stopwords to /root/nltk_data...\n",
            "[nltk_data]   Unzipping corpora/stopwords.zip.\n",
            "[nltk_data] Downloading package vader_lexicon to /root/nltk_data...\n"
          ]
        },
        {
          "output_type": "execute_result",
          "data": {
            "text/plain": [
              "True"
            ]
          },
          "metadata": {},
          "execution_count": 6
        }
      ]
    },
    {
      "cell_type": "code",
      "metadata": {
        "colab": {
          "base_uri": "https://localhost:8080/"
        },
        "id": "qJi-FxAlEBxS",
        "outputId": "edcca00d-3956-4af4-bbf5-c3f238dd047b"
      },
      "source": [
        "# Download the text from my github.\n",
        "# It's an article from TheGuardian newspaper\n",
        "\n",
        "!wget \"https://raw.githubusercontent.com/itacademy-rogergallart/machine-learning-avancat/main/theguardian_article.txt\"\n",
        "\n",
        "with open('theguardian_article.txt', 'r') as file:\n",
        "  article = file.read().replace('\\n',' ')"
      ],
      "execution_count": null,
      "outputs": [
        {
          "output_type": "stream",
          "name": "stdout",
          "text": [
            "--2021-10-01 19:16:43--  https://raw.githubusercontent.com/itacademy-rogergallart/machine-learning-avancat/main/theguardian_article.txt\n",
            "Resolving raw.githubusercontent.com (raw.githubusercontent.com)... 185.199.108.133, 185.199.109.133, 185.199.110.133, ...\n",
            "Connecting to raw.githubusercontent.com (raw.githubusercontent.com)|185.199.108.133|:443... connected.\n",
            "HTTP request sent, awaiting response... 200 OK\n",
            "Length: 6801 (6.6K) [text/plain]\n",
            "Saving to: ‘theguardian_article.txt.2’\n",
            "\n",
            "\r          theguardi   0%[                    ]       0  --.-KB/s               \rtheguardian_article 100%[===================>]   6.64K  --.-KB/s    in 0s      \n",
            "\n",
            "2021-10-01 19:16:44 (76.2 MB/s) - ‘theguardian_article.txt.2’ saved [6801/6801]\n",
            "\n"
          ]
        }
      ]
    },
    {
      "cell_type": "code",
      "metadata": {
        "colab": {
          "base_uri": "https://localhost:8080/"
        },
        "id": "43oRaRCkQyhJ",
        "outputId": "165ca168-caa2-4070-e99c-48a8aa062f3b"
      },
      "source": [
        "# Tokenization\n",
        "tokenized_word_raw = word_tokenize(article)\n",
        "print(\"Word tokenization:\")\n",
        "print(tokenized_word_raw)\n",
        "\n",
        "# Remove punctuation\n",
        "tokenized_word= [word for word in tokenized_word_raw if word.isalnum()]\n",
        "print(\"\\nWord tokenization without punctuation:\")\n",
        "print(tokenized_word)"
      ],
      "execution_count": null,
      "outputs": [
        {
          "output_type": "stream",
          "name": "stdout",
          "text": [
            "Word tokenization:\n",
            "['Who', '’', 's', 'to', 'blame', 'for', 'the', 'Afghanistan', 'chaos', '?', 'Remember', 'the', 'war', '’', 's', 'cheerleaders.Everyone', 'is', 'to', 'blame', 'for', 'the', 'catastrophe', 'in', 'Afghanistan', ',', 'except', 'the', 'people', 'who', 'started', 'it', '.', 'Yes', ',', 'Joe', 'Biden', 'screwed', 'up', 'by', 'rushing', 'out', 'so', 'chaotically', '.', 'Yes', ',', 'Boris', 'Johnson', 'and', 'Dominic', 'Raab', 'failed', 'to', 'make', 'adequate', 'and', 'timely', 'provisions', 'for', 'the', 'evacuation', 'of', 'vulnerable', 'people', '.', 'But', 'there', 'is', 'a', 'frantic', 'determination', 'in', 'the', 'media', 'to', 'ensure', 'that', 'none', 'of', 'the', 'blame', 'is', 'attached', 'to', 'those', 'who', 'began', 'this', 'open-ended', 'war', 'without', 'realistic', 'aims', 'or', 'an', 'exit', 'plan', ',', 'then', 'waged', 'it', 'with', 'little', 'concern', 'for', 'the', 'lives', 'and', 'rights', 'of', 'the', 'Afghan', 'people', ':', 'the', 'then', 'US', 'president', ',', 'George', 'W', 'Bush', ',', 'the', 'British', 'prime', 'minister', 'Tony', 'Blair', 'and', 'their', 'entourages.Indeed', ',', 'Blair', '’', 's', 'self-exoneration', 'and', 'transfer', 'of', 'blame', 'to', 'Biden', 'last', 'weekend', 'was', 'front-page', 'news', ',', 'while', 'those', 'who', 'opposed', 'his', 'disastrous', 'war', '20', 'years', 'ago', 'remain', 'cancelled', 'across', 'most', 'of', 'the', 'media', '.', 'Why', '?', 'Because', 'to', 'acknowledge', 'the', 'mistakes', 'of', 'the', 'men', 'who', 'prosecuted', 'this', 'war', 'would', 'be', 'to', 'expose', 'the', 'media', '’', 's', 'role', 'in', 'facilitating', 'it.Any', 'fair', 'reckoning', 'of', 'what', 'went', 'wrong', 'in', 'Afghanistan', ',', 'Iraq', 'and', 'the', 'other', 'nations', 'swept', 'up', 'in', 'the', '“', 'war', 'on', 'terror', '”', 'should', 'include', 'the', 'disastrous', 'performance', 'of', 'the', 'media', '.', 'Cheerleading', 'for', 'the', 'war', 'in', 'Afghanistan', 'was', 'almost', 'universal', ',', 'and', 'dissent', 'was', 'treated', 'as', 'intolerable', '.', 'After', 'the', 'Northern', 'Alliance', 'stormed', 'into', 'Kabul', ',', 'torturing', 'and', 'castrating', 'its', 'prisoners', ',', 'raping', 'women', 'and', 'children', ',', 'the', 'Telegraph', 'urged', 'us', 'to', '“', 'just', 'rejoice', ',', 'rejoice', '”', ',', 'while', 'the', 'Sun', 'ran', 'a', 'two-page', 'editorial', 'entitled', '“', 'Shame', 'of', 'the', 'traitors', ':', 'wrong', ',', 'wrong', ',', 'wrong', '…', 'the', 'fools', 'who', 'said', 'Allies', 'faced', 'disaster', '”', '.', 'In', 'the', 'Guardian', ',', 'Christopher', 'Hitchens', ',', 'a', 'convert', 'to', 'US', 'hegemony', 'and', 'war', ',', 'marked', 'the', 'solemnity', 'of', 'the', 'occasion', 'with', 'the', 'words', ':', '“', 'Well', ',', 'ha', 'ha', 'ha', ',', 'and', 'yah', ',', 'boo', '.', 'It', 'was', '…', 'obvious', 'that', 'defeat', 'was', 'impossible', '.', 'The', 'Taliban', 'will', 'soon', 'be', 'history.', '”', 'The', 'few', 'journalists', 'and', 'public', 'figures', 'who', 'dissented', 'were', 'added', 'to', 'the', 'Telegraph', '’', 's', 'daily', 'list', 'of', '“', 'Osama', 'bin', 'Laden', '’', 's', 'useful', 'idiots', '”', ',', 'accused', 'of', 'being', '“', 'anti-American', '”', 'and', '“', 'pro-terrorism', '”', ',', 'mocked', ',', 'vilified', 'and', 'de-platformed', 'almost', 'everywhere', '.', 'In', 'the', 'Independent', ',', 'David', 'Aaronovitch', 'claimed', 'that', 'if', 'you', 'opposed', 'the', 'ongoing', 'war', ',', 'you', 'were', '“', 'indulging', 'yourself', 'in', 'a', 'cosmic', 'whinge', '”', '.Everyone', 'I', 'know', 'in', 'the', 'US', 'and', 'the', 'UK', 'who', 'was', 'attacked', 'in', 'the', 'media', 'for', 'opposing', 'the', 'war', 'received', 'death', 'threats', '.', 'Barbara', 'Lee', ',', 'the', 'only', 'member', 'of', 'Congress', 'who', 'voted', 'against', 'granting', 'the', 'Bush', 'government', 'an', 'open', 'licence', 'to', 'use', 'military', 'force', ',', 'needed', 'round-the-clock', 'bodyguards', '.', 'Amid', 'this', 'McCarthyite', 'fervour', ',', 'peace', 'campaigners', 'such', 'as', 'Women', 'in', 'Black', 'were', 'listed', 'as', '“', 'potential', 'terrorists', '”', 'by', 'the', 'FBI', '.', 'The', 'then', 'US', 'secretary', 'of', 'state', ',', 'Colin', 'Powell', ',', 'sought', 'to', 'persuade', 'the', 'emir', 'of', 'Qatar', 'to', 'censor', 'Al', 'Jazeera', ',', 'one', 'of', 'the', 'few', 'outlets', 'that', 'consistently', 'challenged', 'the', 'rush', 'to', 'war', '.', 'After', 'he', 'failed', ',', 'the', 'US', 'bombed', 'Al', 'Jazeera', '’', 's', 'office', 'in', 'Kabul.The', 'broadcast', 'media', 'were', 'almost', 'exclusively', 'reserved', 'for', 'those', 'who', 'supported', 'the', 'adventure', '.', 'The', 'same', 'thing', 'happened', 'before', 'and', 'during', 'the', 'invasion', 'of', 'Iraq', ',', 'when', 'the', 'war', '’', 's', 'opponents', 'received', 'only', '2', '%', 'of', 'BBC', 'airtime', 'on', 'the', 'subject', '.', 'Attempts', 'to', 'challenge', 'the', 'lies', 'that', 'justified', 'the', 'invasion', '–', 'such', 'as', 'Saddam', 'Hussein', '’', 's', 'alleged', 'possession', 'of', 'weapons', 'of', 'mass', 'destruction', 'and', 'his', 'supposed', 'refusal', 'to', 'negotiate', '–', 'were', 'drowned', 'in', 'a', 'surge', 'of', 'patriotic', 'excitement.So', 'why', 'is', 'so', 'much', 'of', 'the', 'media', 'so', 'bloodthirsty', '?', 'Why', 'do', 'they', 'love', 'bombs', 'and', 'bullets', 'so', 'much', ',', 'and', 'diplomacy', 'so', 'little', '?', 'Why', 'do', 'they', 'take', 'such', 'evident', 'delight', 'in', 'striking', 'a', 'pose', 'atop', 'a', 'heap', 'of', 'bodies', ',', 'before', 'quietly', 'shuffling', 'away', 'when', 'things', 'go', 'wrong', '?', 'An', 'obvious', 'answer', 'is', 'the', 'old', 'adage', 'that', '“', 'if', 'it', 'bleeds', 'it', 'leads', '”', ',', 'so', 'there', '’', 's', 'an', 'inbuilt', 'demand', 'for', 'blood', '.', 'I', 'remember', 'as', 'if', 'it', 'were', 'yesterday', 'the', 'moment', 'I', 'began', 'to', 'hate', 'the', 'industry', 'I', 'work', 'for', '.', 'In', '1987', ',', 'I', 'was', 'producing', 'a', 'current', 'affairs', 'programme', 'for', 'the', 'BBC', 'World', 'Service', '.', 'It', 'was', 'a', 'slow', 'news', 'day', ',', 'and', 'none', 'of', 'the', 'stories', 'gave', 'us', 'a', 'strong', 'lead', 'for', 'the', 'programme', '.', 'Ten', 'minutes', 'before', 'transmission', ',', 'the', 'studio', 'door', 'flew', 'open', 'and', 'the', 'editor', 'strode', 'in', '.', 'He', 'clapped', 'his', 'hands', 'and', 'shouted', ':', '“', 'Great', '!', '110', 'dead', 'in', 'Sri', 'Lanka', '!', '”', 'News', 'is', 'spectacle', ',', 'and', 'nothing', 'delivers', 'spectacle', 'like', 'war.Another', 'factor', 'in', 'the', 'UK', 'is', 'a', 'continued', 'failure', 'to', 'come', 'to', 'terms', 'with', 'our', 'colonial', 'history', '.', 'For', 'centuries', 'the', 'interests', 'of', 'the', 'nation', 'have', 'been', 'conflated', 'with', 'the', 'interests', 'of', 'the', 'rich', ',', 'while', 'the', 'interests', 'of', 'the', 'rich', 'depended', 'to', 'a', 'remarkable', 'degree', 'on', 'colonial', 'loot', 'and', 'the', 'military', 'adventures', 'that', 'supplied', 'it', '.', 'Supporting', 'overseas', 'wars', ',', 'however', 'disastrous', ',', 'became', 'a', 'patriotic', 'duty.For', 'all', 'the', 'current', 'breastbeating', 'about', 'the', 'catastrophic', 'defeat', 'in', 'Afghanistan', ',', 'nothing', 'has', 'been', 'learned', '.', 'The', 'media', 'still', 'regale', 'us', 'with', 'comforting', 'lies', 'about', 'the', 'war', 'and', 'occupation', '.', 'They', 'airbrush', 'the', 'drone', 'strikes', 'in', 'which', 'civilians', 'were', 'massacred', 'and', 'the', 'corruption', 'permitted', 'and', 'encouraged', 'by', 'the', 'occupying', 'forces', '.', 'They', 'seek', 'to', 'retrofit', 'justifications', 'to', 'the', 'decision', 'to', 'go', 'to', 'war', ',', 'chief', 'among', 'them', 'securing', 'the', 'rights', 'of', 'women.But', 'this', 'issue', ',', 'crucial', 'as', 'it', 'was', 'and', 'remains', ',', 'didn', '’', 't', 'feature', 'among', 'the', 'original', 'war', 'aims', '.', 'Nor', ',', 'for', 'that', 'matter', ',', 'did', 'overthrowing', 'the', 'Taliban', '.', 'Bush', '’', 's', 'presidency', 'was', 'secured', ',', 'and', 'his', 'wars', 'promoted', ',', 'by', 'American', 'ultra-conservative', 'religious', 'fundamentalists', 'who', 'had', 'more', 'in', 'common', 'with', 'the', 'Taliban', 'than', 'with', 'the', 'brave', 'women', 'seeking', 'liberation', '.', 'In', '2001', ',', 'the', 'newspapers', 'now', 'backcasting', 'themselves', 'as', 'champions', 'of', 'human', 'rights', 'mocked', 'and', 'impeded', 'women', 'at', 'every', 'opportunity', '.', 'The', 'Sun', 'was', 'running', 'photos', 'of', 'topless', 'teenagers', 'on', 'Page', '3', ';', 'the', 'Daily', 'Mail', 'ruined', 'women', '’', 's', 'lives', 'with', 'its', 'Sidebar', 'of', 'Shame', ';', 'extreme', 'sexism', ',', 'body', 'shaming', 'and', 'attacks', 'on', 'feminism', 'were', 'endemic.Those', 'of', 'us', 'who', 'argued', 'against', 'the', 'war', 'possessed', 'no', 'prophetic', 'powers', '.', 'I', 'asked', 'the', 'following', 'questions', 'in', 'the', 'Guardian', 'not', 'because', 'I', 'had', 'any', 'special', 'information', 'or', 'insight', ',', 'but', 'because', 'they', 'were', 'bleeding', 'obvious', '.', '“', 'At', 'what', 'point', 'do', 'we', 'stop', 'fighting', '?', 'At', 'what', 'point', 'does', 'withdrawal', 'become', 'either', 'honourable', 'or', 'responsible', '?', 'Having', 'once', 'engaged', 'its', 'forces', ',', 'are', 'we', 'then', 'obliged', 'to', 'reduce', 'Afghanistan', 'to', 'a', 'permanent', 'protectorate', '?', 'Or', 'will', 'we', 'jettison', 'responsibility', 'as', 'soon', 'as', 'military', 'power', 'becomes', 'impossible', 'to', 'sustain', '?', '”', 'But', 'even', 'asking', 'such', 'things', 'puts', 'you', 'beyond', 'the', 'pale', 'of', 'acceptable', 'opinion.You', 'can', 'get', 'away', 'with', 'a', 'lot', 'in', 'the', 'media', ',', 'but', 'not', ',', 'in', 'most', 'outlets', ',', 'with', 'opposing', 'a', 'war', 'waged', 'by', 'your', 'own', 'nation', '–', 'unless', 'your', 'reasons', 'are', 'solely', 'practical', '.', 'If', 'your', 'motives', 'are', 'humanitarian', ',', 'you', 'are', 'marked', 'from', 'that', 'point', 'on', 'as', 'a', 'fanatic', '.', 'Those', 'who', 'make', 'their', 'arguments', 'with', 'bombs', 'and', 'missiles', 'are', '“', 'moderates', '”', 'and', '“', 'centrists', '”', ';', 'those', 'who', 'oppose', 'them', 'with', 'words', 'are', '“', 'extremists', '”', '.', 'The', 'inconvenient', 'fact', 'that', 'the', '“', 'extremists', '”', 'were', 'right', 'and', 'the', '“', 'centrists', '”', 'were', 'wrong', 'is', 'today', 'being', 'strenuously', 'forgotten', '.']\n",
            "\n",
            "Word tokenization without punctuation:\n",
            "['Who', 's', 'to', 'blame', 'for', 'the', 'Afghanistan', 'chaos', 'Remember', 'the', 'war', 's', 'is', 'to', 'blame', 'for', 'the', 'catastrophe', 'in', 'Afghanistan', 'except', 'the', 'people', 'who', 'started', 'it', 'Yes', 'Joe', 'Biden', 'screwed', 'up', 'by', 'rushing', 'out', 'so', 'chaotically', 'Yes', 'Boris', 'Johnson', 'and', 'Dominic', 'Raab', 'failed', 'to', 'make', 'adequate', 'and', 'timely', 'provisions', 'for', 'the', 'evacuation', 'of', 'vulnerable', 'people', 'But', 'there', 'is', 'a', 'frantic', 'determination', 'in', 'the', 'media', 'to', 'ensure', 'that', 'none', 'of', 'the', 'blame', 'is', 'attached', 'to', 'those', 'who', 'began', 'this', 'war', 'without', 'realistic', 'aims', 'or', 'an', 'exit', 'plan', 'then', 'waged', 'it', 'with', 'little', 'concern', 'for', 'the', 'lives', 'and', 'rights', 'of', 'the', 'Afghan', 'people', 'the', 'then', 'US', 'president', 'George', 'W', 'Bush', 'the', 'British', 'prime', 'minister', 'Tony', 'Blair', 'and', 'their', 'Blair', 's', 'and', 'transfer', 'of', 'blame', 'to', 'Biden', 'last', 'weekend', 'was', 'news', 'while', 'those', 'who', 'opposed', 'his', 'disastrous', 'war', '20', 'years', 'ago', 'remain', 'cancelled', 'across', 'most', 'of', 'the', 'media', 'Why', 'Because', 'to', 'acknowledge', 'the', 'mistakes', 'of', 'the', 'men', 'who', 'prosecuted', 'this', 'war', 'would', 'be', 'to', 'expose', 'the', 'media', 's', 'role', 'in', 'facilitating', 'fair', 'reckoning', 'of', 'what', 'went', 'wrong', 'in', 'Afghanistan', 'Iraq', 'and', 'the', 'other', 'nations', 'swept', 'up', 'in', 'the', 'war', 'on', 'terror', 'should', 'include', 'the', 'disastrous', 'performance', 'of', 'the', 'media', 'Cheerleading', 'for', 'the', 'war', 'in', 'Afghanistan', 'was', 'almost', 'universal', 'and', 'dissent', 'was', 'treated', 'as', 'intolerable', 'After', 'the', 'Northern', 'Alliance', 'stormed', 'into', 'Kabul', 'torturing', 'and', 'castrating', 'its', 'prisoners', 'raping', 'women', 'and', 'children', 'the', 'Telegraph', 'urged', 'us', 'to', 'just', 'rejoice', 'rejoice', 'while', 'the', 'Sun', 'ran', 'a', 'editorial', 'entitled', 'Shame', 'of', 'the', 'traitors', 'wrong', 'wrong', 'wrong', 'the', 'fools', 'who', 'said', 'Allies', 'faced', 'disaster', 'In', 'the', 'Guardian', 'Christopher', 'Hitchens', 'a', 'convert', 'to', 'US', 'hegemony', 'and', 'war', 'marked', 'the', 'solemnity', 'of', 'the', 'occasion', 'with', 'the', 'words', 'Well', 'ha', 'ha', 'ha', 'and', 'yah', 'boo', 'It', 'was', 'obvious', 'that', 'defeat', 'was', 'impossible', 'The', 'Taliban', 'will', 'soon', 'be', 'The', 'few', 'journalists', 'and', 'public', 'figures', 'who', 'dissented', 'were', 'added', 'to', 'the', 'Telegraph', 's', 'daily', 'list', 'of', 'Osama', 'bin', 'Laden', 's', 'useful', 'idiots', 'accused', 'of', 'being', 'and', 'mocked', 'vilified', 'and', 'almost', 'everywhere', 'In', 'the', 'Independent', 'David', 'Aaronovitch', 'claimed', 'that', 'if', 'you', 'opposed', 'the', 'ongoing', 'war', 'you', 'were', 'indulging', 'yourself', 'in', 'a', 'cosmic', 'whinge', 'I', 'know', 'in', 'the', 'US', 'and', 'the', 'UK', 'who', 'was', 'attacked', 'in', 'the', 'media', 'for', 'opposing', 'the', 'war', 'received', 'death', 'threats', 'Barbara', 'Lee', 'the', 'only', 'member', 'of', 'Congress', 'who', 'voted', 'against', 'granting', 'the', 'Bush', 'government', 'an', 'open', 'licence', 'to', 'use', 'military', 'force', 'needed', 'bodyguards', 'Amid', 'this', 'McCarthyite', 'fervour', 'peace', 'campaigners', 'such', 'as', 'Women', 'in', 'Black', 'were', 'listed', 'as', 'potential', 'terrorists', 'by', 'the', 'FBI', 'The', 'then', 'US', 'secretary', 'of', 'state', 'Colin', 'Powell', 'sought', 'to', 'persuade', 'the', 'emir', 'of', 'Qatar', 'to', 'censor', 'Al', 'Jazeera', 'one', 'of', 'the', 'few', 'outlets', 'that', 'consistently', 'challenged', 'the', 'rush', 'to', 'war', 'After', 'he', 'failed', 'the', 'US', 'bombed', 'Al', 'Jazeera', 's', 'office', 'in', 'broadcast', 'media', 'were', 'almost', 'exclusively', 'reserved', 'for', 'those', 'who', 'supported', 'the', 'adventure', 'The', 'same', 'thing', 'happened', 'before', 'and', 'during', 'the', 'invasion', 'of', 'Iraq', 'when', 'the', 'war', 's', 'opponents', 'received', 'only', '2', 'of', 'BBC', 'airtime', 'on', 'the', 'subject', 'Attempts', 'to', 'challenge', 'the', 'lies', 'that', 'justified', 'the', 'invasion', 'such', 'as', 'Saddam', 'Hussein', 's', 'alleged', 'possession', 'of', 'weapons', 'of', 'mass', 'destruction', 'and', 'his', 'supposed', 'refusal', 'to', 'negotiate', 'were', 'drowned', 'in', 'a', 'surge', 'of', 'patriotic', 'why', 'is', 'so', 'much', 'of', 'the', 'media', 'so', 'bloodthirsty', 'Why', 'do', 'they', 'love', 'bombs', 'and', 'bullets', 'so', 'much', 'and', 'diplomacy', 'so', 'little', 'Why', 'do', 'they', 'take', 'such', 'evident', 'delight', 'in', 'striking', 'a', 'pose', 'atop', 'a', 'heap', 'of', 'bodies', 'before', 'quietly', 'shuffling', 'away', 'when', 'things', 'go', 'wrong', 'An', 'obvious', 'answer', 'is', 'the', 'old', 'adage', 'that', 'if', 'it', 'bleeds', 'it', 'leads', 'so', 'there', 's', 'an', 'inbuilt', 'demand', 'for', 'blood', 'I', 'remember', 'as', 'if', 'it', 'were', 'yesterday', 'the', 'moment', 'I', 'began', 'to', 'hate', 'the', 'industry', 'I', 'work', 'for', 'In', '1987', 'I', 'was', 'producing', 'a', 'current', 'affairs', 'programme', 'for', 'the', 'BBC', 'World', 'Service', 'It', 'was', 'a', 'slow', 'news', 'day', 'and', 'none', 'of', 'the', 'stories', 'gave', 'us', 'a', 'strong', 'lead', 'for', 'the', 'programme', 'Ten', 'minutes', 'before', 'transmission', 'the', 'studio', 'door', 'flew', 'open', 'and', 'the', 'editor', 'strode', 'in', 'He', 'clapped', 'his', 'hands', 'and', 'shouted', 'Great', '110', 'dead', 'in', 'Sri', 'Lanka', 'News', 'is', 'spectacle', 'and', 'nothing', 'delivers', 'spectacle', 'like', 'factor', 'in', 'the', 'UK', 'is', 'a', 'continued', 'failure', 'to', 'come', 'to', 'terms', 'with', 'our', 'colonial', 'history', 'For', 'centuries', 'the', 'interests', 'of', 'the', 'nation', 'have', 'been', 'conflated', 'with', 'the', 'interests', 'of', 'the', 'rich', 'while', 'the', 'interests', 'of', 'the', 'rich', 'depended', 'to', 'a', 'remarkable', 'degree', 'on', 'colonial', 'loot', 'and', 'the', 'military', 'adventures', 'that', 'supplied', 'it', 'Supporting', 'overseas', 'wars', 'however', 'disastrous', 'became', 'a', 'patriotic', 'all', 'the', 'current', 'breastbeating', 'about', 'the', 'catastrophic', 'defeat', 'in', 'Afghanistan', 'nothing', 'has', 'been', 'learned', 'The', 'media', 'still', 'regale', 'us', 'with', 'comforting', 'lies', 'about', 'the', 'war', 'and', 'occupation', 'They', 'airbrush', 'the', 'drone', 'strikes', 'in', 'which', 'civilians', 'were', 'massacred', 'and', 'the', 'corruption', 'permitted', 'and', 'encouraged', 'by', 'the', 'occupying', 'forces', 'They', 'seek', 'to', 'retrofit', 'justifications', 'to', 'the', 'decision', 'to', 'go', 'to', 'war', 'chief', 'among', 'them', 'securing', 'the', 'rights', 'of', 'this', 'issue', 'crucial', 'as', 'it', 'was', 'and', 'remains', 'didn', 't', 'feature', 'among', 'the', 'original', 'war', 'aims', 'Nor', 'for', 'that', 'matter', 'did', 'overthrowing', 'the', 'Taliban', 'Bush', 's', 'presidency', 'was', 'secured', 'and', 'his', 'wars', 'promoted', 'by', 'American', 'religious', 'fundamentalists', 'who', 'had', 'more', 'in', 'common', 'with', 'the', 'Taliban', 'than', 'with', 'the', 'brave', 'women', 'seeking', 'liberation', 'In', '2001', 'the', 'newspapers', 'now', 'backcasting', 'themselves', 'as', 'champions', 'of', 'human', 'rights', 'mocked', 'and', 'impeded', 'women', 'at', 'every', 'opportunity', 'The', 'Sun', 'was', 'running', 'photos', 'of', 'topless', 'teenagers', 'on', 'Page', '3', 'the', 'Daily', 'Mail', 'ruined', 'women', 's', 'lives', 'with', 'its', 'Sidebar', 'of', 'Shame', 'extreme', 'sexism', 'body', 'shaming', 'and', 'attacks', 'on', 'feminism', 'were', 'of', 'us', 'who', 'argued', 'against', 'the', 'war', 'possessed', 'no', 'prophetic', 'powers', 'I', 'asked', 'the', 'following', 'questions', 'in', 'the', 'Guardian', 'not', 'because', 'I', 'had', 'any', 'special', 'information', 'or', 'insight', 'but', 'because', 'they', 'were', 'bleeding', 'obvious', 'At', 'what', 'point', 'do', 'we', 'stop', 'fighting', 'At', 'what', 'point', 'does', 'withdrawal', 'become', 'either', 'honourable', 'or', 'responsible', 'Having', 'once', 'engaged', 'its', 'forces', 'are', 'we', 'then', 'obliged', 'to', 'reduce', 'Afghanistan', 'to', 'a', 'permanent', 'protectorate', 'Or', 'will', 'we', 'jettison', 'responsibility', 'as', 'soon', 'as', 'military', 'power', 'becomes', 'impossible', 'to', 'sustain', 'But', 'even', 'asking', 'such', 'things', 'puts', 'you', 'beyond', 'the', 'pale', 'of', 'acceptable', 'can', 'get', 'away', 'with', 'a', 'lot', 'in', 'the', 'media', 'but', 'not', 'in', 'most', 'outlets', 'with', 'opposing', 'a', 'war', 'waged', 'by', 'your', 'own', 'nation', 'unless', 'your', 'reasons', 'are', 'solely', 'practical', 'If', 'your', 'motives', 'are', 'humanitarian', 'you', 'are', 'marked', 'from', 'that', 'point', 'on', 'as', 'a', 'fanatic', 'Those', 'who', 'make', 'their', 'arguments', 'with', 'bombs', 'and', 'missiles', 'are', 'moderates', 'and', 'centrists', 'those', 'who', 'oppose', 'them', 'with', 'words', 'are', 'extremists', 'The', 'inconvenient', 'fact', 'that', 'the', 'extremists', 'were', 'right', 'and', 'the', 'centrists', 'were', 'wrong', 'is', 'today', 'being', 'strenuously', 'forgotten']\n"
          ]
        }
      ]
    },
    {
      "cell_type": "code",
      "metadata": {
        "colab": {
          "base_uri": "https://localhost:8080/",
          "height": 370
        },
        "id": "XP_WOl9_S-3x",
        "outputId": "654d4fcd-d619-4338-c474-557813b448b0"
      },
      "source": [
        "# Frequency distribution\n",
        "fdist = FreqDist(tokenized_word)\n",
        "\n",
        "fdist.plot(20, title=\"Frequency distribution of words (top 20)\", cumulative=False)\n",
        "plt.show()\n",
        "\n",
        "fdist.tabulate(20)\n"
      ],
      "execution_count": null,
      "outputs": [
        {
          "output_type": "display_data",
          "data": {
            "image/png": "[encoded data removed]",
            "text/plain": [
              "<Figure size 432x288 with 1 Axes>"
            ]
          },
          "metadata": {
            "needs_background": "light"
          }
        },
        {
          "output_type": "stream",
          "name": "stdout",
          "text": [
            "  the   and    of    to    in   war     a   who     s   for  with   was  were  that    as media    is    it   The     I \n",
            "   87    34    33    28    22    17    17    13    12    12    12    11    11    10    10     9     8     8     8     7 \n"
          ]
        }
      ]
    },
    {
      "cell_type": "markdown",
      "metadata": {
        "id": "WSzvU2sbAbAy"
      },
      "source": [
        "## Nivell 2 - Exercici 1\n",
        "Treu les stopwords i realitza stemming al teu conjunt de dades."
      ]
    },
    {
      "cell_type": "code",
      "metadata": {
        "colab": {
          "base_uri": "https://localhost:8080/"
        },
        "id": "BRssvCHOTdPq",
        "outputId": "479cb4bb-1fc1-4d76-ed65-452a459bfc02"
      },
      "source": [
        "# List of stopwords in english\n",
        "stop_words = set(stopwords.words(\"english\"))\n",
        "print(stop_words)"
      ],
      "execution_count": null,
      "outputs": [
        {
          "output_type": "stream",
          "name": "stdout",
          "text": [
            "{'is', 'were', 'the', 'by', 've', \"isn't\", 'at', 'they', 'y', \"you've\", 'won', 'against', 'be', 'about', 't', 'been', 'can', 'it', 'had', 'because', 'some', 'those', 'am', 'o', 'whom', 'through', 'wasn', 'under', 're', 'll', 'shouldn', 'i', 'theirs', 'what', 'how', 'own', 'in', 'ma', 'each', 'doesn', 'itself', 'only', 'there', 'an', 'me', 'of', 'off', 'shan', 'hasn', 'did', 'during', 'here', 'haven', 'which', 'them', 'couldn', \"needn't\", 'her', 'themselves', 'yourself', 'isn', 'that', 'but', 'from', 'once', 'will', 'his', \"mightn't\", \"doesn't\", 'was', 'hers', 'up', 'then', 'does', 'm', 'than', 'just', 'further', 'few', \"should've\", 'too', 'he', \"that'll\", 'until', 'my', 'your', \"haven't\", 'where', 'yourselves', \"wasn't\", 'mustn', 'with', 'you', 'while', 'our', 'as', \"won't\", 'are', \"didn't\", 'weren', 'this', 'a', 'do', 'both', 'aren', \"hadn't\", \"mustn't\", 'him', \"hasn't\", \"it's\", \"she's\", 'more', 'ourselves', 'yours', 'its', \"shouldn't\", 'no', \"you'll\", 'for', 'why', \"shan't\", \"you'd\", \"wouldn't\", 'most', 'nor', 'we', 'being', 'all', 'herself', 'again', \"weren't\", 'below', \"you're\", 'down', 'don', \"couldn't\", 'myself', 'ours', 'have', 'such', 'not', 'hadn', 'when', 'their', 'doing', 'on', 'to', 'so', 'mightn', 'didn', 'out', 'having', 'd', \"don't\", 'wouldn', 'above', 'before', 'into', \"aren't\", 'now', 'after', 'any', 'over', 'has', 'himself', 'very', 'or', 'same', 'if', 'other', 'ain', 'needn', 'who', 's', 'should', 'she', 'and', 'these', 'between'}\n"
          ]
        }
      ]
    },
    {
      "cell_type": "code",
      "metadata": {
        "colab": {
          "base_uri": "https://localhost:8080/"
        },
        "id": "ZxTprDoCT8GS",
        "outputId": "2791eae3-70de-4947-ebc6-d4fa7bb98363"
      },
      "source": [
        "# Filter (remove) the stopwords from the tokenized words list\n",
        "\n",
        "filtered_words = [w for w in tokenized_word if w.lower() not in stop_words]\n",
        "print(\"Filtered Words:\\n\",filtered_words)\n"
      ],
      "execution_count": null,
      "outputs": [
        {
          "output_type": "stream",
          "name": "stdout",
          "text": [
            "Filtered Words:\n",
            " ['blame', 'Afghanistan', 'chaos', 'Remember', 'war', 'cheerleaders', 'Everyone', 'blame', 'catastrophe', 'Afghanistan', 'except', 'people', 'started', 'Yes', 'Joe', 'Biden', 'screwed', 'rushing', 'chaotically', 'Yes', 'Boris', 'Johnson', 'Dominic', 'Raab', 'failed', 'make', 'adequate', 'timely', 'provisions', 'evacuation', 'vulnerable', 'people', 'frantic', 'determination', 'media', 'ensure', 'none', 'blame', 'attached', 'began', 'war', 'without', 'realistic', 'aims', 'exit', 'plan', 'waged', 'little', 'concern', 'lives', 'rights', 'Afghan', 'people', 'US', 'president', 'George', 'W', 'Bush', 'British', 'prime', 'minister', 'Tony', 'Blair', 'entourages', 'Indeed', 'Blair', 'transfer', 'blame', 'Biden', 'last', 'weekend', 'news', 'opposed', 'disastrous', 'war', '20', 'years', 'ago', 'remain', 'cancelled', 'across', 'media', 'acknowledge', 'mistakes', 'men', 'prosecuted', 'war', 'would', 'expose', 'media', 'role', 'facilitating', 'fair', 'reckoning', 'went', 'wrong', 'Afghanistan', 'Iraq', 'nations', 'swept', 'war', 'terror', 'include', 'disastrous', 'performance', 'media', 'Cheerleading', 'war', 'Afghanistan', 'almost', 'universal', 'dissent', 'treated', 'intolerable', 'Northern', 'Alliance', 'stormed', 'Kabul', 'torturing', 'castrating', 'prisoners', 'raping', 'women', 'children', 'Telegraph', 'urged', 'us', 'rejoice', 'rejoice', 'Sun', 'ran', 'editorial', 'entitled', 'Shame', 'traitors', 'wrong', 'wrong', 'wrong', 'fools', 'said', 'Allies', 'faced', 'disaster', 'Guardian', 'Christopher', 'Hitchens', 'convert', 'US', 'hegemony', 'war', 'marked', 'solemnity', 'occasion', 'words', 'Well', 'ha', 'ha', 'ha', 'yah', 'boo', 'obvious', 'defeat', 'impossible', 'Taliban', 'soon', 'journalists', 'public', 'figures', 'dissented', 'added', 'Telegraph', 'daily', 'list', 'Osama', 'bin', 'Laden', 'useful', 'idiots', 'accused', 'mocked', 'vilified', 'almost', 'everywhere', 'Independent', 'David', 'Aaronovitch', 'claimed', 'opposed', 'ongoing', 'war', 'indulging', 'cosmic', 'whinge', 'Everyone', 'know', 'US', 'UK', 'attacked', 'media', 'opposing', 'war', 'received', 'death', 'threats', 'Barbara', 'Lee', 'member', 'Congress', 'voted', 'granting', 'Bush', 'government', 'open', 'licence', 'use', 'military', 'force', 'needed', 'bodyguards', 'Amid', 'McCarthyite', 'fervour', 'peace', 'campaigners', 'Women', 'Black', 'listed', 'potential', 'terrorists', 'FBI', 'US', 'secretary', 'state', 'Colin', 'Powell', 'sought', 'persuade', 'emir', 'Qatar', 'censor', 'Al', 'Jazeera', 'one', 'outlets', 'consistently', 'challenged', 'rush', 'war', 'failed', 'US', 'bombed', 'Al', 'Jazeera', 'office', 'Kabul', 'broadcast', 'media', 'almost', 'exclusively', 'reserved', 'supported', 'adventure', 'thing', 'happened', 'invasion', 'Iraq', 'war', 'opponents', 'received', '2', 'BBC', 'airtime', 'subject', 'Attempts', 'challenge', 'lies', 'justified', 'invasion', 'Saddam', 'Hussein', 'alleged', 'possession', 'weapons', 'mass', 'destruction', 'supposed', 'refusal', 'negotiate', 'drowned', 'surge', 'patriotic', 'excitement', 'much', 'media', 'bloodthirsty', 'love', 'bombs', 'bullets', 'much', 'diplomacy', 'little', 'take', 'evident', 'delight', 'striking', 'pose', 'atop', 'heap', 'bodies', 'quietly', 'shuffling', 'away', 'things', 'go', 'wrong', 'obvious', 'answer', 'old', 'adage', 'bleeds', 'leads', 'inbuilt', 'demand', 'blood', 'remember', 'yesterday', 'moment', 'began', 'hate', 'industry', 'work', '1987', 'producing', 'current', 'affairs', 'programme', 'BBC', 'World', 'Service', 'slow', 'news', 'day', 'none', 'stories', 'gave', 'us', 'strong', 'lead', 'programme', 'Ten', 'minutes', 'transmission', 'studio', 'door', 'flew', 'open', 'editor', 'strode', 'clapped', 'hands', 'shouted', 'Great', '110', 'dead', 'Sri', 'Lanka', 'News', 'spectacle', 'nothing', 'delivers', 'spectacle', 'like', 'war', 'Another', 'factor', 'UK', 'continued', 'failure', 'come', 'terms', 'colonial', 'history', 'centuries', 'interests', 'nation', 'conflated', 'interests', 'rich', 'interests', 'rich', 'depended', 'remarkable', 'degree', 'colonial', 'loot', 'military', 'adventures', 'supplied', 'Supporting', 'overseas', 'wars', 'however', 'disastrous', 'became', 'patriotic', 'duty', 'current', 'breastbeating', 'catastrophic', 'defeat', 'Afghanistan', 'nothing', 'learned', 'media', 'still', 'regale', 'us', 'comforting', 'lies', 'war', 'occupation', 'airbrush', 'drone', 'strikes', 'civilians', 'massacred', 'corruption', 'permitted', 'encouraged', 'occupying', 'forces', 'seek', 'retrofit', 'justifications', 'decision', 'go', 'war', 'chief', 'among', 'securing', 'rights', 'women', 'issue', 'crucial', 'remains', 'feature', 'among', 'original', 'war', 'aims', 'matter', 'overthrowing', 'Taliban', 'Bush', 'presidency', 'secured', 'wars', 'promoted', 'American', 'religious', 'fundamentalists', 'common', 'Taliban', 'brave', 'women', 'seeking', 'liberation', '2001', 'newspapers', 'backcasting', 'champions', 'human', 'rights', 'mocked', 'impeded', 'women', 'every', 'opportunity', 'Sun', 'running', 'photos', 'topless', 'teenagers', 'Page', '3', 'Daily', 'Mail', 'ruined', 'women', 'lives', 'Sidebar', 'Shame', 'extreme', 'sexism', 'body', 'shaming', 'attacks', 'feminism', 'endemic', 'us', 'argued', 'war', 'possessed', 'prophetic', 'powers', 'asked', 'following', 'questions', 'Guardian', 'special', 'information', 'insight', 'bleeding', 'obvious', 'point', 'stop', 'fighting', 'point', 'withdrawal', 'become', 'either', 'honourable', 'responsible', 'engaged', 'forces', 'obliged', 'reduce', 'Afghanistan', 'permanent', 'protectorate', 'jettison', 'responsibility', 'soon', 'military', 'power', 'becomes', 'impossible', 'sustain', 'even', 'asking', 'things', 'puts', 'beyond', 'pale', 'acceptable', 'opinion', 'get', 'away', 'lot', 'media', 'outlets', 'opposing', 'war', 'waged', 'nation', 'unless', 'reasons', 'solely', 'practical', 'motives', 'humanitarian', 'marked', 'point', 'fanatic', 'make', 'arguments', 'bombs', 'missiles', 'moderates', 'centrists', 'oppose', 'words', 'extremists', 'inconvenient', 'fact', 'extremists', 'right', 'centrists', 'wrong', 'today', 'strenuously', 'forgotten']\n"
          ]
        }
      ]
    },
    {
      "cell_type": "code",
      "metadata": {
        "colab": {
          "base_uri": "https://localhost:8080/"
        },
        "id": "_BxH2ZyOYeqh",
        "outputId": "9db1ab3b-7fd1-4137-f4f3-faf228d79e63"
      },
      "source": [
        "# Stemming\n",
        "ps = PorterStemmer()\n",
        "stemmed_words = [ps.stem(w) for w in filtered_words]\n",
        "\n",
        "print(\"Stemmed Sentence:\",stemmed_words)"
      ],
      "execution_count": null,
      "outputs": [
        {
          "output_type": "stream",
          "name": "stdout",
          "text": [
            "Stemmed Sentence: ['blame', 'afghanistan', 'chao', 'rememb', 'war', 'cheerlead', 'everyon', 'blame', 'catastroph', 'afghanistan', 'except', 'peopl', 'start', 'ye', 'joe', 'biden', 'screw', 'rush', 'chaotic', 'ye', 'bori', 'johnson', 'domin', 'raab', 'fail', 'make', 'adequ', 'time', 'provis', 'evacu', 'vulner', 'peopl', 'frantic', 'determin', 'media', 'ensur', 'none', 'blame', 'attach', 'began', 'war', 'without', 'realist', 'aim', 'exit', 'plan', 'wage', 'littl', 'concern', 'live', 'right', 'afghan', 'peopl', 'us', 'presid', 'georg', 'w', 'bush', 'british', 'prime', 'minist', 'toni', 'blair', 'entourag', 'inde', 'blair', 'transfer', 'blame', 'biden', 'last', 'weekend', 'news', 'oppos', 'disastr', 'war', '20', 'year', 'ago', 'remain', 'cancel', 'across', 'media', 'acknowledg', 'mistak', 'men', 'prosecut', 'war', 'would', 'expos', 'media', 'role', 'facilit', 'fair', 'reckon', 'went', 'wrong', 'afghanistan', 'iraq', 'nation', 'swept', 'war', 'terror', 'includ', 'disastr', 'perform', 'media', 'cheerlead', 'war', 'afghanistan', 'almost', 'univers', 'dissent', 'treat', 'intoler', 'northern', 'allianc', 'storm', 'kabul', 'tortur', 'castrat', 'prison', 'rape', 'women', 'children', 'telegraph', 'urg', 'us', 'rejoic', 'rejoic', 'sun', 'ran', 'editori', 'entitl', 'shame', 'traitor', 'wrong', 'wrong', 'wrong', 'fool', 'said', 'alli', 'face', 'disast', 'guardian', 'christoph', 'hitchen', 'convert', 'us', 'hegemoni', 'war', 'mark', 'solemn', 'occas', 'word', 'well', 'ha', 'ha', 'ha', 'yah', 'boo', 'obviou', 'defeat', 'imposs', 'taliban', 'soon', 'journalist', 'public', 'figur', 'dissent', 'ad', 'telegraph', 'daili', 'list', 'osama', 'bin', 'laden', 'use', 'idiot', 'accus', 'mock', 'vilifi', 'almost', 'everywher', 'independ', 'david', 'aaronovitch', 'claim', 'oppos', 'ongo', 'war', 'indulg', 'cosmic', 'whing', 'everyon', 'know', 'us', 'uk', 'attack', 'media', 'oppos', 'war', 'receiv', 'death', 'threat', 'barbara', 'lee', 'member', 'congress', 'vote', 'grant', 'bush', 'govern', 'open', 'licenc', 'use', 'militari', 'forc', 'need', 'bodyguard', 'amid', 'mccarthyit', 'fervour', 'peac', 'campaign', 'women', 'black', 'list', 'potenti', 'terrorist', 'fbi', 'us', 'secretari', 'state', 'colin', 'powel', 'sought', 'persuad', 'emir', 'qatar', 'censor', 'al', 'jazeera', 'one', 'outlet', 'consist', 'challeng', 'rush', 'war', 'fail', 'us', 'bomb', 'al', 'jazeera', 'offic', 'kabul', 'broadcast', 'media', 'almost', 'exclus', 'reserv', 'support', 'adventur', 'thing', 'happen', 'invas', 'iraq', 'war', 'oppon', 'receiv', '2', 'bbc', 'airtim', 'subject', 'attempt', 'challeng', 'lie', 'justifi', 'invas', 'saddam', 'hussein', 'alleg', 'possess', 'weapon', 'mass', 'destruct', 'suppos', 'refus', 'negoti', 'drown', 'surg', 'patriot', 'excit', 'much', 'media', 'bloodthirsti', 'love', 'bomb', 'bullet', 'much', 'diplomaci', 'littl', 'take', 'evid', 'delight', 'strike', 'pose', 'atop', 'heap', 'bodi', 'quietli', 'shuffl', 'away', 'thing', 'go', 'wrong', 'obviou', 'answer', 'old', 'adag', 'bleed', 'lead', 'inbuilt', 'demand', 'blood', 'rememb', 'yesterday', 'moment', 'began', 'hate', 'industri', 'work', '1987', 'produc', 'current', 'affair', 'programm', 'bbc', 'world', 'servic', 'slow', 'news', 'day', 'none', 'stori', 'gave', 'us', 'strong', 'lead', 'programm', 'ten', 'minut', 'transmiss', 'studio', 'door', 'flew', 'open', 'editor', 'strode', 'clap', 'hand', 'shout', 'great', '110', 'dead', 'sri', 'lanka', 'new', 'spectacl', 'noth', 'deliv', 'spectacl', 'like', 'war', 'anoth', 'factor', 'uk', 'continu', 'failur', 'come', 'term', 'coloni', 'histori', 'centuri', 'interest', 'nation', 'conflat', 'interest', 'rich', 'interest', 'rich', 'depend', 'remark', 'degre', 'coloni', 'loot', 'militari', 'adventur', 'suppli', 'support', 'oversea', 'war', 'howev', 'disastr', 'becam', 'patriot', 'duti', 'current', 'breastbeat', 'catastroph', 'defeat', 'afghanistan', 'noth', 'learn', 'media', 'still', 'regal', 'us', 'comfort', 'lie', 'war', 'occup', 'airbrush', 'drone', 'strike', 'civilian', 'massacr', 'corrupt', 'permit', 'encourag', 'occupi', 'forc', 'seek', 'retrofit', 'justif', 'decis', 'go', 'war', 'chief', 'among', 'secur', 'right', 'women', 'issu', 'crucial', 'remain', 'featur', 'among', 'origin', 'war', 'aim', 'matter', 'overthrow', 'taliban', 'bush', 'presid', 'secur', 'war', 'promot', 'american', 'religi', 'fundamentalist', 'common', 'taliban', 'brave', 'women', 'seek', 'liber', '2001', 'newspap', 'backcast', 'champion', 'human', 'right', 'mock', 'imped', 'women', 'everi', 'opportun', 'sun', 'run', 'photo', 'topless', 'teenag', 'page', '3', 'daili', 'mail', 'ruin', 'women', 'live', 'sidebar', 'shame', 'extrem', 'sexism', 'bodi', 'shame', 'attack', 'femin', 'endem', 'us', 'argu', 'war', 'possess', 'prophet', 'power', 'ask', 'follow', 'question', 'guardian', 'special', 'inform', 'insight', 'bleed', 'obviou', 'point', 'stop', 'fight', 'point', 'withdraw', 'becom', 'either', 'honour', 'respons', 'engag', 'forc', 'oblig', 'reduc', 'afghanistan', 'perman', 'protector', 'jettison', 'respons', 'soon', 'militari', 'power', 'becom', 'imposs', 'sustain', 'even', 'ask', 'thing', 'put', 'beyond', 'pale', 'accept', 'opinion', 'get', 'away', 'lot', 'media', 'outlet', 'oppos', 'war', 'wage', 'nation', 'unless', 'reason', 'sole', 'practic', 'motiv', 'humanitarian', 'mark', 'point', 'fanat', 'make', 'argument', 'bomb', 'missil', 'moder', 'centrist', 'oppos', 'word', 'extremist', 'inconveni', 'fact', 'extremist', 'right', 'centrist', 'wrong', 'today', 'strenuous', 'forgotten']\n"
          ]
        }
      ]
    },
    {
      "cell_type": "markdown",
      "metadata": {
        "id": "ncNBOSmhAfN2"
      },
      "source": [
        "## Nivell 3 - Exercici 1\n",
        "Realitza sentiment analysis al teu conjunt de dades."
      ]
    },
    {
      "cell_type": "markdown",
      "metadata": {
        "id": "1Q1oZz_dVkUu"
      },
      "source": [
        "### Utilitzant NLTK/Vader"
      ]
    },
    {
      "cell_type": "code",
      "metadata": {
        "colab": {
          "base_uri": "https://localhost:8080/"
        },
        "id": "GDgPCsnL3fWt",
        "outputId": "3d5d98cb-14d4-4fca-e50b-ad5a995203ff"
      },
      "source": [
        "# Sentiment intensity analysis\n",
        "sia = SentimentIntensityAnalyzer()\n",
        "\n",
        "# Compound score can range -1 (negative) to 1 (positive)\n",
        "print(f\"Overall article compound score: {sia.polarity_scores(article)['compound']}\")\n"
      ],
      "execution_count": null,
      "outputs": [
        {
          "output_type": "stream",
          "name": "stdout",
          "text": [
            "Overall article compound score: -0.9995\n"
          ]
        }
      ]
    },
    {
      "cell_type": "markdown",
      "metadata": {
        "id": "9TPulfDoVJ43"
      },
      "source": [
        "Veiem que el sentiment és negatiu, com era d'esperar ja que es tracta d'un article periodistic critic sobre un event dramàtic."
      ]
    },
    {
      "cell_type": "markdown",
      "metadata": {
        "id": "DxlUfHVWVDdq"
      },
      "source": [
        "Si analitzem el sentiment de cada frase:"
      ]
    },
    {
      "cell_type": "code",
      "metadata": {
        "colab": {
          "base_uri": "https://localhost:8080/",
          "height": 221
        },
        "id": "b8jgtEhsQeAd",
        "outputId": "521b6c5b-3f4c-4176-b3bb-c834c8fba2d9"
      },
      "source": [
        "df = pd.DataFrame(sent_tokenize(article), columns=['Sentence'])\n",
        "df['Compound_score'] = df['Sentence'].apply(lambda sentence: sia.polarity_scores(sentence)['compound'])\n",
        "\n",
        "df.head()"
      ],
      "execution_count": null,
      "outputs": [
        {
          "output_type": "stream",
          "name": "stdout",
          "text": [
            "Overall article compound score: -0.9995\n"
          ]
        },
        {
          "output_type": "execute_result",
          "data": {
            "text/html": [
              "<div>\n",
              "<style scoped>\n",
              "    .dataframe tbody tr th:only-of-type {\n",
              "        vertical-align: middle;\n",
              "    }\n",
              "\n",
              "    .dataframe tbody tr th {\n",
              "        vertical-align: top;\n",
              "    }\n",
              "\n",
              "    .dataframe thead th {\n",
              "        text-align: right;\n",
              "    }\n",
              "</style>\n",
              "<table border=\"1\" class=\"dataframe\">\n",
              "  <thead>\n",
              "    <tr style=\"text-align: right;\">\n",
              "      <th></th>\n",
              "      <th>Sentence</th>\n",
              "      <th>Compound_score</th>\n",
              "    </tr>\n",
              "  </thead>\n",
              "  <tbody>\n",
              "    <tr>\n",
              "      <th>0</th>\n",
              "      <td>Who’s to blame for the Afghanistan chaos?</td>\n",
              "      <td>-0.7269</td>\n",
              "    </tr>\n",
              "    <tr>\n",
              "      <th>1</th>\n",
              "      <td>Remember the war’s cheerleaders.</td>\n",
              "      <td>0.2960</td>\n",
              "    </tr>\n",
              "    <tr>\n",
              "      <th>2</th>\n",
              "      <td>Everyone is to blame for the catastrophe in Af...</td>\n",
              "      <td>-0.7783</td>\n",
              "    </tr>\n",
              "    <tr>\n",
              "      <th>3</th>\n",
              "      <td>Yes, Joe Biden screwed up by rushing out so ch...</td>\n",
              "      <td>-0.1280</td>\n",
              "    </tr>\n",
              "    <tr>\n",
              "      <th>4</th>\n",
              "      <td>Yes, Boris Johnson and Dominic Raab failed to ...</td>\n",
              "      <td>-0.1531</td>\n",
              "    </tr>\n",
              "  </tbody>\n",
              "</table>\n",
              "</div>"
            ],
            "text/plain": [
              "                                            Sentence  Compound_score\n",
              "0          Who’s to blame for the Afghanistan chaos?         -0.7269\n",
              "1                   Remember the war’s cheerleaders.          0.2960\n",
              "2  Everyone is to blame for the catastrophe in Af...         -0.7783\n",
              "3  Yes, Joe Biden screwed up by rushing out so ch...         -0.1280\n",
              "4  Yes, Boris Johnson and Dominic Raab failed to ...         -0.1531"
            ]
          },
          "metadata": {},
          "execution_count": 79
        }
      ]
    },
    {
      "cell_type": "code",
      "metadata": {
        "colab": {
          "base_uri": "https://localhost:8080/",
          "height": 295
        },
        "id": "-48wypv-Sf98",
        "outputId": "032f1194-fc0c-4804-bb3f-fb22ea3652e6"
      },
      "source": [
        "N_BINS = 30\n",
        "df.Compound_score.hist(bins=N_BINS);\n",
        "plt.title(f'Histogram of sentence compound scores ({N_BINS} bins)');\n",
        "plt.xlabel('Compound score');\n",
        "plt.ylabel('Counts');"
      ],
      "execution_count": null,
      "outputs": [
        {
          "output_type": "display_data",
          "data": {
            "image/png": "[encoded data removed]",
            "text/plain": [
              "<Figure size 432x288 with 1 Axes>"
            ]
          },
          "metadata": {
            "needs_background": "light"
          }
        }
      ]
    },
    {
      "cell_type": "markdown",
      "metadata": {
        "id": "wxON3WvLVIEv"
      },
      "source": [
        "Veiem com la majoria de frases tenen un sentiment negatiu o neutre."
      ]
    }
  ]
}